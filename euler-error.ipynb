{
 "cells": [
  {
   "cell_type": "markdown",
   "id": "f10d79ee-fc1d-49d0-a6e1-0f4f15d0fcc6",
   "metadata": {},
   "source": [
    "# Euler characteristic integration error behaviour"
   ]
  },
  {
   "cell_type": "code",
   "execution_count": 1,
   "id": "2e27658c-6215-4c1c-ab21-c45fb177d30a",
   "metadata": {},
   "outputs": [],
   "source": [
    "from itertools import combinations\n",
    "from copy import deepcopy\n",
    "import numpy\n",
    "from numpy.linalg import norm\n",
    "from numpy.random import rand\n",
    "\n",
    "from sensorplayground import SimpleSensor, EulerEstimator, drawField, zipboth\n",
    "from simplicial import SimplicialComplex, Embedding, EulerIntegrator, k_simplex, TriangularLattice, TriangularLatticeEmbedding\n",
    "from simplicial.drawing import drawComplex, drawEulerIntegral\n",
    "\n",
    "import matplotlib\n",
    "%matplotlib inline\n",
    "%config InlineBackend.figure_format = 'png'\n",
    "import matplotlib.pyplot as plt\n",
    "from matplotlib.collections import PatchCollection\n",
    "from matplotlib.patches import Circle, Polygon, PathPatch\n",
    "from matplotlib.path import Path\n",
    "from mpl_toolkits.mplot3d.art3d import patch_collection_2d_to_3d\n",
    "\n",
    "plt.style.use(['default', 'display.mplstyle'])"
   ]
  },
  {
   "cell_type": "code",
   "execution_count": 2,
   "id": "9113e344-dabc-478a-81e7-5f59ff4a3613",
   "metadata": {},
   "outputs": [],
   "source": [
    "palette = ['w', 'r', 'b']"
   ]
  },
  {
   "cell_type": "code",
   "execution_count": 3,
   "id": "22716466-20a9-4c53-9746-be17b0022c8e",
   "metadata": {},
   "outputs": [],
   "source": [
    "def offset(pos, s, off):\n",
    "    '''Return a point offset from a sensor's position.\n",
    "\n",
    "    :param pos: the embedding\n",
    "    :param s: the simplex\n",
    "    :param off: the offset\n",
    "    :returns: the position'''\n",
    "    return list(map(lambda po: po[0] + po[1], zip(pos[s], off)))"
   ]
  },
  {
   "cell_type": "code",
   "execution_count": 4,
   "id": "0439dfce-9d99-4068-b218-524c1b838e93",
   "metadata": {},
   "outputs": [],
   "source": [
    "lattice = TriangularLattice(9, 3)\n",
    "pos = TriangularLatticeEmbedding(lattice, h=0.8, w=0.8)\n",
    "\n",
    "# pre-compute positions\n",
    "_ = pos.positionsOf()\n",
    "\n",
    "# offset all simplices within the field\n",
    "for i in lattice.simplicesOfOrder(0):\n",
    "    pos.positionSimplex(i, offset(pos, i, (0.15, 0.1)))"
   ]
  },
  {
   "cell_type": "code",
   "execution_count": 5,
   "id": "0ee3e2ec-2ba2-4a30-8cd9-3400c6425456",
   "metadata": {},
   "outputs": [],
   "source": [
    "# remove simplices for fig 1\n",
    "lattice.deleteSimplices([0, 1, 2])\n",
    "lattice.deleteSimplices([4, 5])\n",
    "lattice.deleteSimplices([18])\n",
    "lattice.deleteSimplices([24, 25])"
   ]
  },
  {
   "cell_type": "code",
   "execution_count": 6,
   "id": "b9d72195-e0b5-465e-93b9-c34a47c00a9b",
   "metadata": {},
   "outputs": [],
   "source": [
    "latticeSensors = []\n",
    "for i in lattice.simplicesOfOrder(0):\n",
    "    s = SimpleSensor((pos[i][0], pos[i][1]), 0.15, id=i)\n",
    "    latticeSensors.append(s)"
   ]
  },
  {
   "cell_type": "code",
   "execution_count": 7,
   "id": "4fd7bb37-fd47-45ef-898c-d0a688bcec01",
   "metadata": {},
   "outputs": [],
   "source": [
    "def makeObservations(ss, ts, c, attr = 'count'):\n",
    "    '''Make obsevrations of targets from sensors and insert\n",
    "    the counts into the overhearing complex.\n",
    "\n",
    "    :param ss: the sensors\n",
    "    :param ts: the targets\n",
    "    :param c: the complex\n",
    "    :param attr: the attribute holding the count (default 'count')'''\n",
    "\n",
    "    # record the counts\n",
    "    for s in ss:\n",
    "        n = s.counts(ts)\n",
    "\n",
    "        # record the count in an attribute of the overhearing complex\n",
    "        c[s.id()][attr] = n\n",
    "\n",
    "    # propagate the counts to higher simplices\n",
    "    for k in range(1, c.maxOrder() + 1):\n",
    "        for s in c.simplicesOfOrder(k):\n",
    "            c[s][attr] = min([c[f][attr] for f in c.faces(s)])"
   ]
  },
  {
   "cell_type": "code",
   "execution_count": 8,
   "id": "2a0a6f4b-d364-41c0-b018-11a24f73228a",
   "metadata": {},
   "outputs": [],
   "source": [
    "integrator = EulerIntegrator('count')"
   ]
  },
  {
   "cell_type": "markdown",
   "id": "47595933-4f8f-4a71-b623-3d6d0c36bc62",
   "metadata": {},
   "source": [
    "## Micro examples"
   ]
  },
  {
   "cell_type": "markdown",
   "id": "7d944de0-f694-4a89-bbe3-efc1ff946d76",
   "metadata": {},
   "source": [
    "### One triangle, two targets"
   ]
  },
  {
   "cell_type": "code",
   "execution_count": 9,
   "id": "d348693f-bc20-412d-b4a4-3227ec3c38ec",
   "metadata": {},
   "outputs": [],
   "source": [
    "oneTriangle = SimplicialComplex()\n",
    "\n",
    "# add a single triangle (2-simplex)\n",
    "oneTriangle.addSimplicesFrom(k_simplex(2))\n",
    "tri1 = oneTriangle.simplicesOfOrder(2)[0]\n",
    "\n",
    "# position in a triangle\n",
    "pos1 = {}\n",
    "ss = list(oneTriangle.basisOf(tri1))\n",
    "pos1[ss[0]] = (0.4, 0.4)\n",
    "pos1[ss[1]] = (0.4, 0.5)\n",
    "pos1[ss[2]] = (0.5, 0.4)\n",
    "\n",
    "# place sensors at the 0-simplex points\n",
    "oneTriangleSensors = []\n",
    "for i in oneTriangle.simplicesOfOrder(0):\n",
    "    s = SimpleSensor(pos1[i], 0.15, id=i)\n",
    "    oneTriangleSensors.append(s)"
   ]
  },
  {
   "cell_type": "markdown",
   "id": "1b1de6ac-cecc-4d87-a961-9fc685e05b63",
   "metadata": {},
   "source": [
    "Add two targets in the same triangle."
   ]
  },
  {
   "cell_type": "code",
   "execution_count": 10,
   "id": "7488fa5a-ad81-4778-9f6a-0e627f540895",
   "metadata": {},
   "outputs": [],
   "source": [
    "t1 = offset(pos1, ss[0], (0.02, 0.02))\n",
    "t2 = offset(pos1, ss[1], (0.02, -0.02))"
   ]
  },
  {
   "cell_type": "code",
   "execution_count": 11,
   "id": "e3d69986-3010-4d60-889e-6df47445bc1c",
   "metadata": {},
   "outputs": [
    {
     "name": "stdout",
     "output_type": "stream",
     "text": [
      "Counting 2 targets\n"
     ]
    }
   ],
   "source": [
    "makeObservations(oneTriangleSensors, [t1, t2], oneTriangle)\n",
    "\n",
    "count = integrator.integrate(oneTriangle)\n",
    "print(f'Counting {count} targets')"
   ]
  },
  {
   "cell_type": "markdown",
   "id": "e6c46bec-3d8d-4944-bd16-d28b479eea87",
   "metadata": {},
   "source": [
    "### Two triangles, two targets"
   ]
  },
  {
   "cell_type": "markdown",
   "id": "e7f4bffa-29ab-4a34-a07f-6457cc9091af",
   "metadata": {},
   "source": [
    "Now let us create as network with two triangles and one target in each."
   ]
  },
  {
   "cell_type": "code",
   "execution_count": 12,
   "id": "4666a89d-bd93-4fd6-a011-f30b29a7172e",
   "metadata": {},
   "outputs": [],
   "source": [
    "twoTriangle = oneTriangle.copy()\n",
    "\n",
    "# add a second triangle\n",
    "ss = list(oneTriangle.basisOf(tri1))\n",
    "n4 = twoTriangle.addSimplex(fs=[])\n",
    "tri2 = twoTriangle.addSimplexWithBasis(bs=[ss[1], ss[2], n4])\n",
    "pos2 = deepcopy(pos1)\n",
    "pos2[n4] = (0.5, 0.5)\n",
    "twoTriangleSensors = deepcopy(oneTriangleSensors)\n",
    "s = SimpleSensor(pos2[n4], 0.15, id=n4)\n",
    "twoTriangleSensors.append(s)"
   ]
  },
  {
   "cell_type": "code",
   "execution_count": 13,
   "id": "9210d508-c7ca-4f7e-bf1b-7dae82af702a",
   "metadata": {},
   "outputs": [],
   "source": [
    "t3 = offset(pos2, n4, (-0.02, -0.02))"
   ]
  },
  {
   "cell_type": "code",
   "execution_count": 14,
   "id": "c54d2af4-0390-42e4-83d5-05c373725fc4",
   "metadata": {},
   "outputs": [
    {
     "name": "stdout",
     "output_type": "stream",
     "text": [
      "Counting 2 targets\n"
     ]
    }
   ],
   "source": [
    "makeObservations(twoTriangleSensors, [t1, t2], twoTriangle)\n",
    "\n",
    "count = integrator.integrate(twoTriangle)\n",
    "print(f'Counting {count} targets')"
   ]
  },
  {
   "cell_type": "code",
   "execution_count": 16,
   "id": "dc15e121-41f7-4a3c-9d85-137e1f178f8c",
   "metadata": {},
   "outputs": [
    {
     "data": {
      "image/png": "[encoded data removed]",
      "text/plain": [
       "<Figure size 1800x600 with 3 Axes>"
      ]
     },
     "metadata": {},
     "output_type": "display_data"
    }
   ],
   "source": [
    "fig, axs = plt.subplots(nrows=1, ncols=3, figsize=(6, 2))\n",
    "drawEulerIntegral(twoTriangle, pos2, axs=axs,\n",
    "                  showLevelSets=True,\n",
    "                  showEulerCharacteristics=True, eulerCharacteristicsColour='r', eulerCharacteristicsFontSize='xx-small',\n",
    "                  showMetrics=True, metricsColour='r', metricsFontSize='x-small',\n",
    "                  simplexColour=lambda c, s, k: palette[twoTriangle[s]['count']])\n",
    "plt.show()"
   ]
  },
  {
   "cell_type": "markdown",
   "id": "74eea9a1-9991-452f-a842-1dde52faf524",
   "metadata": {},
   "source": [
    "Essentially the shape of the overhearing complex is a \"tower\" of height 2."
   ]
  },
  {
   "cell_type": "markdown",
   "id": "a0c1f92b-f8ef-4c49-b21a-10033d6886d5",
   "metadata": {},
   "source": [
    "### One tetrahedron with targets in two different triangles"
   ]
  },
  {
   "cell_type": "code",
   "execution_count": 20,
   "id": "2c8263be-7162-4c2b-a2f4-586f12b6b1c5",
   "metadata": {},
   "outputs": [],
   "source": [
    "oneTetra = SimplicialComplex()\n",
    "\n",
    "# add a single tetrahedron (3-simplex)\n",
    "oneTetra.addSimplicesFrom(k_simplex(3))\n",
    "tetra1 = oneTetra.simplicesOfOrder(3)[0]\n",
    "\n",
    "# position in a square\n",
    "pos3 = {}\n",
    "ss = list(oneTetra.basisOf(tetra1))\n",
    "pos3[ss[0]] = (0.4, 0.4)\n",
    "pos3[ss[1]] = (0.4, 0.5)\n",
    "pos3[ss[2]] = (0.5, 0.4)\n",
    "pos3[ss[3]] = (0.45, 0.45)\n",
    "\n",
    "# place sensors at the 0-simplex points\n",
    "oneTetraSensors = []\n",
    "for i in oneTetra.simplicesOfOrder(0):\n",
    "    s = SimpleSensor(pos3[i], 0.15, id=i)\n",
    "    oneTetraSensors.append(s)"
   ]
  },
  {
   "cell_type": "code",
   "execution_count": 21,
   "id": "a36e5707-b9b4-4e86-9894-957bd16fea60",
   "metadata": {},
   "outputs": [
    {
     "name": "stdout",
     "output_type": "stream",
     "text": [
      "Counting 2 targets\n"
     ]
    }
   ],
   "source": [
    "makeObservations(oneTetraSensors, [t1, t2], oneTetra)\n",
    "\n",
    "count = integrator.integrate(oneTetra)\n",
    "print(f'Counting {count} targets')"
   ]
  },
  {
   "cell_type": "code",
   "execution_count": null,
   "id": "ad8790a9-241f-4502-bb22-63394c9f54fb",
   "metadata": {},
   "outputs": [],
   "source": []
  }
 ],
 "metadata": {
  "kernelspec": {
   "display_name": "Python 3 (ipykernel)",
   "language": "python",
   "name": "python3"
  },
  "language_info": {
   "codemirror_mode": {
    "name": "ipython",
    "version": 3
   },
   "file_extension": ".py",
   "mimetype": "text/x-python",
   "name": "python",
   "nbconvert_exporter": "python",
   "pygments_lexer": "ipython3",
   "version": "3.11.6"
  }
 },
 "nbformat": 4,
 "nbformat_minor": 5
}
