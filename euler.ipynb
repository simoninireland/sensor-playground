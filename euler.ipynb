{
 "cells": [
  {
   "cell_type": "markdown",
   "id": "d15cb985-d980-4dac-ad25-c13df040d496",
   "metadata": {},
   "source": [
    "# Target counting using Euler integration"
   ]
  },
  {
   "cell_type": "markdown",
   "id": "e7ea38d5-2a63-4cb3-8c84-06d3ecff19e3",
   "metadata": {},
   "source": [
    "This technique is due to Baryshnikov and Ghrist, and was further explored by Pianini *et alia* who discovered it had more complex error behaviour than anticipated."
   ]
  },
  {
   "cell_type": "code",
   "execution_count": 1,
   "id": "5c9a8069-f2ee-4ec6-8c21-6e7bdf3881ad",
   "metadata": {},
   "outputs": [],
   "source": [
    "from itertools import combinations\n",
    "import numpy\n",
    "from numpy.linalg import norm\n",
    "from numpy.random import rand\n",
    "\n",
    "from sensorplayground import SimpleSensor, drawField, zipboth\n",
    "from simplicial import SimplicialComplex, EulerIntegrator, TriangularLattice, TriangularLatticeEmbedding\n",
    "from simplicial.drawing import draw_complex\n",
    "\n",
    "import matplotlib\n",
    "%matplotlib inline\n",
    "%config InlineBackend.figure_format = 'png'\n",
    "import matplotlib.pyplot as plt\n",
    "\n",
    "plt.style.use(['default', 'display.mplstyle'])"
   ]
  },
  {
   "cell_type": "markdown",
   "id": "d16d913a-8a75-435a-a9d6-d69322990744",
   "metadata": {},
   "source": [
    "## Building the model of overhearing behaviour"
   ]
  },
  {
   "cell_type": "markdown",
   "id": "d4094126-2c13-4992-9118-5815c1d6aaec",
   "metadata": {},
   "source": [
    "The overhearing structure is a simplicial complex with a basis given by the sensors. If two sensors $s_1$ and $s_2$ could observe the same target, meaning that they have overlapping sensor fields, we add a 1-simplex $[s_1, s_2]$ to the complex. Similarly we add a 2-simplex $[s_1, s_2, s_3]$ if there is a third sensor $s_3$ whose sensor field overlaps with those of both $s_1$ and $s_2$, and so on for higher simplices."
   ]
  },
  {
   "cell_type": "code",
   "execution_count": 2,
   "id": "eabdee72-75e6-48bf-a8b7-b98a2fa1abbf",
   "metadata": {},
   "outputs": [],
   "source": [
    "class EulerEstimator:\n",
    "    '''An Euler integral overhearing structure and estimator.\n",
    "\n",
    "    :param ss: the sensors\n",
    "    '''\n",
    "\n",
    "    COUNT = 'count'    #: Attribute  used to hold the count at each sensor simplex.\n",
    "\n",
    "\n",
    "    def __init__(self, ss):\n",
    "        self._sensors = ss\n",
    "        self._c = self._build(ss)\n",
    "\n",
    "\n",
    "    def _build(self, ss):\n",
    "        '''Build the overhearing structure for a set of sensors.\n",
    "\n",
    "        The structure consists of a k-simplex for every set of (k + 1)\n",
    "        sensors whose sensor fields mutually overlap.\n",
    "\n",
    "        :param ss: the sensors'''\n",
    "        c = SimplicialComplex()\n",
    "\n",
    "        # add the basis, using the sensors' ids as simplex names\n",
    "        for s in ss:\n",
    "            c.addSimplex(id=s.id())\n",
    "\n",
    "        # add higher simplices\n",
    "        for k in range(1, len(ss)):\n",
    "            # track now many k-simplices we create\n",
    "            created = 0\n",
    "\n",
    "            # run through all combinations of (k + 1) basis simplices\n",
    "            for pb in combinations(ss, k + 1):\n",
    "                pairwise = True\n",
    "\n",
    "                # check all pairwise distances\n",
    "                for (i, j) in combinations(pb, 2):\n",
    "                    if not i.isOverlappingWith(j):\n",
    "                        # pair is not overlapping, so can't create\n",
    "                        # a k-simplex from this basis\n",
    "                        pairwise = False\n",
    "                        break\n",
    "\n",
    "                # if all the pairwise distances were overlapping,\n",
    "                # create the higher simplex on this basis\n",
    "                if pairwise:\n",
    "                    bs = [s.id() for s in pb]\n",
    "                    c.addSimplexWithBasis(bs)\n",
    "                    created += 1\n",
    "\n",
    "            # if we created enough k-simplices to potentially build\n",
    "            # a (k + 1)-simplex, carry on; otherwise we can't build any\n",
    "            # higher simplices, and so can escape from the loop\n",
    "            if created < (k + 1) + 1:\n",
    "                break\n",
    "\n",
    "        # return the overhearing structure\n",
    "        return c\n",
    "\n",
    "\n",
    "    def overhearing(self):\n",
    "        return self._c\n"
   ]
  },
  {
   "cell_type": "markdown",
   "id": "2f0b0526-25cb-4f9c-8140-e2c4d05364ea",
   "metadata": {},
   "source": [
    "The idea behind the Euler integration estimator is to compute the Euler characteristic over successive sub-complexes of the overhearing complex, filtering based on the count at each sensor."
   ]
  },
  {
   "cell_type": "code",
   "execution_count": 3,
   "id": "6908cdaa-c0d0-4e57-ab6b-03a60ff0adf1",
   "metadata": {},
   "outputs": [],
   "source": [
    "def setCounts(oh, ss, cs):\n",
    "    '''Apply counts to sensors within the overhearing complex.\n",
    "\n",
    "    :param oh: the overhearing complex\n",
    "    :param ss: the sensors\n",
    "    :param cs: the counts (in the same order as the sensors)'''\n",
    "    for (s, c) in zipboth(ss, cs):\n",
    "        oh[s.id()][EulerEstimator.COUNT] = c"
   ]
  },
  {
   "cell_type": "markdown",
   "id": "fc380878-4e40-419c-82f2-3eba1d0fc3ad",
   "metadata": {},
   "source": [
    "We can then get an estimate by integrating the Euler characteristic across the level sets."
   ]
  },
  {
   "cell_type": "code",
   "execution_count": 4,
   "id": "3d9ba567-91dc-4347-a2e1-cc14a374afbc",
   "metadata": {},
   "outputs": [],
   "source": [
    "def estimate(oh):\n",
    "    integrator = EulerIntegrator(EulerEstimator.COUNT)\n",
    "    count = integrator.integrate(oh)\n",
    "    return count"
   ]
  },
  {
   "cell_type": "markdown",
   "id": "001fc106-bd8f-4f8c-a5ab-eb88d3057fc2",
   "metadata": {},
   "source": [
    "Let's start with the situation we had before: a sensor field with two targets, one observed by one sensor and one observed by four sensors. The naive estimate of summing-up all the individual counts over-counts the target population."
   ]
  },
  {
   "cell_type": "code",
   "execution_count": 5,
   "id": "1c59fd6d-090f-444a-9961-412c0ff77f36",
   "metadata": {
    "scrolled": true
   },
   "outputs": [
    {
     "name": "stdout",
     "output_type": "stream",
     "text": [
      "Counting 5 targets\n"
     ]
    }
   ],
   "source": [
    "# placed the sensors in a 5x5 grid\n",
    "grid = []\n",
    "d = 0.15\n",
    "for i in range(5):\n",
    "    for j in range(5):\n",
    "        p = [0.1 + (1 / 5) * i, 0.1 + (1 / 5) * j]\n",
    "        grid.append(SimpleSensor(p, d))\n",
    "\n",
    "# carefully place the targets\n",
    "t1 = numpy.array([0.05, 0.05])\n",
    "t2 = numpy.array([0.2, 0.2])\n",
    "\n",
    "# count the targets by asking all sensors for their count\n",
    "cs = []\n",
    "targets = 0\n",
    "for s in grid:\n",
    "    c = s.counts([t1, t2])\n",
    "    cs.append(c)\n",
    "    targets += c\n",
    "\n",
    "print(f'Counting {targets} targets')"
   ]
  },
  {
   "cell_type": "markdown",
   "id": "9c6b1d8d-e0ec-4f94-8fd7-1e64bea7fa70",
   "metadata": {},
   "source": [
    "Let's now apply the Euler integration method to the same sensors with the same individual counts and see what happens."
   ]
  },
  {
   "cell_type": "code",
   "execution_count": 6,
   "id": "4bdd0f8e-ef9a-4841-8184-699337cbd64d",
   "metadata": {},
   "outputs": [
    {
     "name": "stdout",
     "output_type": "stream",
     "text": [
      "Counting 2 targets\n"
     ]
    }
   ],
   "source": [
    "# build the overhearing structure\n",
    "e = EulerEstimator(grid)\n",
    "oh = e.overhearing()\n",
    "\n",
    "# set the counts for the sensors\n",
    "setCounts(oh, grid, cs)\n",
    "\n",
    "# run the estimator\n",
    "targets = estimate(oh)\n",
    "\n",
    "print(f'Counting {targets} targets')"
   ]
  },
  {
   "cell_type": "markdown",
   "id": "e9db7441-af8e-4de7-ab38-bc85140e71eb",
   "metadata": {},
   "source": [
    "So that worked well! -- the extra topological information about overhearing resolved ther overcounting of ione of the targets and yielded the correct answer."
   ]
  },
  {
   "cell_type": "markdown",
   "id": "7b61ba35-2cbb-4df0-8881-c30900721538",
   "metadata": {},
   "source": [
    "## Mis-counting"
   ]
  },
  {
   "cell_type": "markdown",
   "id": "82b171e9-63f0-4ccc-ae68-c9b17a3b83fa",
   "metadata": {},
   "source": [
    "The integrator *can* mis-count, however."
   ]
  },
  {
   "cell_type": "code",
   "execution_count": 7,
   "id": "32379b18-a7a3-4016-990b-96654d012cdf",
   "metadata": {},
   "outputs": [],
   "source": [
    "lattice = TriangularLattice(8, 6)\n",
    "pos = TriangularLatticeEmbedding(lattice, h=0.8, w=0.8)"
   ]
  },
  {
   "cell_type": "code",
   "execution_count": 16,
   "id": "b84800cd-2e57-459e-a8fc-87e784356fe4",
   "metadata": {},
   "outputs": [
    {
     "name": "stdout",
     "output_type": "stream",
     "text": [
      "0 0.0 0.0\n",
      "1 0.0 0.13333333333333333\n",
      "2 0.0 0.26666666666666666\n",
      "3 0.0 0.4\n",
      "4 0.0 0.5333333333333333\n",
      "5 0.0 0.6666666666666666\n",
      "6 0.1 0.06666666666666667\n",
      "7 0.1 0.2\n",
      "8 0.1 0.3333333333333333\n",
      "9 0.1 0.4666666666666667\n",
      "10 0.1 0.6\n",
      "11 0.1 0.7333333333333333\n",
      "12 0.2 0.0\n",
      "13 0.2 0.13333333333333333\n",
      "14 0.2 0.26666666666666666\n",
      "15 0.2 0.4\n",
      "16 0.2 0.5333333333333333\n",
      "17 0.2 0.6666666666666666\n",
      "18 0.30000000000000004 0.06666666666666667\n",
      "19 0.30000000000000004 0.2\n",
      "20 0.30000000000000004 0.3333333333333333\n",
      "21 0.30000000000000004 0.4666666666666667\n",
      "22 0.30000000000000004 0.6\n",
      "23 0.30000000000000004 0.7333333333333333\n",
      "24 0.4 0.0\n",
      "25 0.4 0.13333333333333333\n",
      "26 0.4 0.26666666666666666\n",
      "27 0.4 0.4\n",
      "28 0.4 0.5333333333333333\n",
      "29 0.4 0.6666666666666666\n",
      "30 0.5 0.06666666666666667\n",
      "31 0.5 0.2\n",
      "32 0.5 0.3333333333333333\n",
      "33 0.5 0.4666666666666667\n",
      "34 0.5 0.6\n",
      "35 0.5 0.7333333333333333\n",
      "36 0.6000000000000001 0.0\n",
      "37 0.6000000000000001 0.13333333333333333\n",
      "38 0.6000000000000001 0.26666666666666666\n",
      "39 0.6000000000000001 0.4\n",
      "40 0.6000000000000001 0.5333333333333333\n",
      "41 0.6000000000000001 0.6666666666666666\n",
      "42 0.7000000000000001 0.06666666666666667\n",
      "43 0.7000000000000001 0.2\n",
      "44 0.7000000000000001 0.3333333333333333\n",
      "45 0.7000000000000001 0.4666666666666667\n",
      "46 0.7000000000000001 0.6\n",
      "47 0.7000000000000001 0.7333333333333333\n"
     ]
    }
   ],
   "source": [
    "latticeSensors = []\n",
    "for i in lattice.simplicesOfOrder(0):\n",
    "    # position is in (x, y), while lattice is in (row, column)\n",
    "    print(i, pos[i][1], pos[i][0])\n",
    "    s = SimpleSensor((pos[i][1] + 0.1, pos[i][0] + 0.1), 0.1, id=i)\n",
    "    latticeSensors.append(s)"
   ]
  },
  {
   "cell_type": "code",
   "execution_count": 13,
   "id": "b5514376-5459-4150-bb44-f5c1249fdc15",
   "metadata": {},
   "outputs": [],
   "source": [
    "t1 = list(map(lambda p: p[0] + p[1], zipboth(pos[lattice._indexOfVertex(0, 4)], [0.01, -0.01])))\n",
    "t2 = list(map(lambda p: p[0] + p[1], zipboth(pos[lattice._indexOfVertex(5, 4)], [0.01, -0.01])))"
   ]
  },
  {
   "cell_type": "code",
   "execution_count": 17,
   "id": "d218b8ca-a16f-4527-96af-503ff23cb5b2",
   "metadata": {},
   "outputs": [
    {
     "data": {
      "image/png": "[encoded data removed]",
      "text/plain": [
       "<Figure size 1200x900 with 1 Axes>"
      ]
     },
     "metadata": {},
     "output_type": "display_data"
    }
   ],
   "source": [
    "fig = plt.figure(figsize=(4, 3))\n",
    "drawField(latticeSensors, ts=[t1], showSensorLabels=True, showFields=False)\n",
    "plt.show()"
   ]
  },
  {
   "cell_type": "code",
   "execution_count": null,
   "id": "3bb5be05-3e0b-4e39-af92-8122e9818db0",
   "metadata": {},
   "outputs": [],
   "source": []
  }
 ],
 "metadata": {
  "kernelspec": {
   "display_name": "Python 3 (ipykernel)",
   "language": "python",
   "name": "python3"
  },
  "language_info": {
   "codemirror_mode": {
    "name": "ipython",
    "version": 3
   },
   "file_extension": ".py",
   "mimetype": "text/x-python",
   "name": "python",
   "nbconvert_exporter": "python",
   "pygments_lexer": "ipython3",
   "version": "3.11.6"
  }
 },
 "nbformat": 4,
 "nbformat_minor": 5
}
